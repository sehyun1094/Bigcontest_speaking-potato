{
 "cells": [
  {
   "cell_type": "code",
   "execution_count": 1,
   "id": "0b84b16a",
   "metadata": {},
   "outputs": [],
   "source": [
    "import numpy as np\n",
    "import pandas as pd"
   ]
  },
  {
   "cell_type": "markdown",
   "id": "b2c0d6a0",
   "metadata": {},
   "source": [
    "### preprocessing"
   ]
  },
  {
   "cell_type": "code",
   "execution_count": 2,
   "id": "a21801eb",
   "metadata": {},
   "outputs": [],
   "source": [
    "user_spec = pd.read_csv('user_spec.csv')\n",
    "loan_result = pd.read_csv('loan_result.csv')\n",
    "log_data = pd.read_csv('log_data.csv')"
   ]
  },
  {
   "cell_type": "code",
   "execution_count": 3,
   "id": "d329c364",
   "metadata": {},
   "outputs": [],
   "source": [
    "user_spec = user_spec.astype({user_spec.columns[2]:'Int64', user_spec.columns[3]:'Int64', user_spec.columns[4]:'datetime64', \n",
    "                              user_spec.columns[5]:'Int64', user_spec.columns[6]:'Int64'})"
   ]
  },
  {
   "cell_type": "code",
   "execution_count": 4,
   "id": "3281b4af",
   "metadata": {},
   "outputs": [],
   "source": [
    "def convert_time(x):\n",
    "    if np.isnan(x):\n",
    "        return x\n",
    "    if np.log10(x)>7:\n",
    "        x = x // 100\n",
    "    x = pd.to_datetime(str(int(x)), format='%Y%m')\n",
    "    return x"
   ]
  },
  {
   "cell_type": "code",
   "execution_count": 5,
   "id": "91b52b30",
   "metadata": {},
   "outputs": [
    {
     "name": "stdout",
     "output_type": "stream",
     "text": [
      "done!\n",
      "done!\n"
     ]
    }
   ],
   "source": [
    "foo = user_spec[\"company_enter_month\"]\n",
    "print(\"done!\")\n",
    "foo = foo.map(convert_time)\n",
    "print(\"done!\")\n",
    "user_spec[\"company_enter_month\"] = foo"
   ]
  },
  {
   "cell_type": "code",
   "execution_count": 6,
   "id": "a6490c0f",
   "metadata": {},
   "outputs": [],
   "source": [
    "loan_result = loan_result.astype({\"loanapply_insert_time\":'datetime64'})"
   ]
  },
  {
   "cell_type": "code",
   "execution_count": 7,
   "id": "7f5274a3",
   "metadata": {},
   "outputs": [],
   "source": [
    "log_data = log_data.drop(labels = [\"mp_os\", \"mp_app_version\",\"date_cd\"], axis = 1).astype({'timestamp':'datetime64'})"
   ]
  },
  {
   "cell_type": "code",
   "execution_count": 8,
   "id": "63a88a65",
   "metadata": {},
   "outputs": [
    {
     "name": "stdout",
     "output_type": "stream",
     "text": [
      "<class 'pandas.core.frame.DataFrame'>\n",
      "RangeIndex: 1394216 entries, 0 to 1394215\n",
      "Data columns (total 17 columns):\n",
      " #   Column                               Non-Null Count    Dtype         \n",
      "---  ------                               --------------    -----         \n",
      " 0   application_id                       1394216 non-null  int64         \n",
      " 1   user_id                              1394216 non-null  int64         \n",
      " 2   birth_year                           1381255 non-null  Int64         \n",
      " 3   gender                               1381255 non-null  Int64         \n",
      " 4   insert_time                          1394216 non-null  datetime64[ns]\n",
      " 5   credit_score                         1289101 non-null  Int64         \n",
      " 6   yearly_income                        1394126 non-null  Int64         \n",
      " 7   income_type                          1394131 non-null  object        \n",
      " 8   company_enter_month                  1222456 non-null  datetime64[ns]\n",
      " 9   employment_type                      1394131 non-null  object        \n",
      " 10  houseown_type                        1394131 non-null  object        \n",
      " 11  desired_amount                       1394131 non-null  float64       \n",
      " 12  purpose                              1394131 non-null  object        \n",
      " 13  personal_rehabilitation_yn           806755 non-null   float64       \n",
      " 14  personal_rehabilitation_complete_yn  190862 non-null   float64       \n",
      " 15  existing_loan_cnt                    1195660 non-null  float64       \n",
      " 16  existing_loan_amt                    1080442 non-null  float64       \n",
      "dtypes: Int64(4), datetime64[ns](2), float64(5), int64(2), object(4)\n",
      "memory usage: 186.1+ MB\n"
     ]
    }
   ],
   "source": [
    "user_spec.info()"
   ]
  },
  {
   "cell_type": "code",
   "execution_count": 9,
   "id": "34dfb9fe",
   "metadata": {},
   "outputs": [
    {
     "name": "stdout",
     "output_type": "stream",
     "text": [
      "<class 'pandas.core.frame.DataFrame'>\n",
      "RangeIndex: 13527363 entries, 0 to 13527362\n",
      "Data columns (total 7 columns):\n",
      " #   Column                 Dtype         \n",
      "---  ------                 -----         \n",
      " 0   application_id         int64         \n",
      " 1   loanapply_insert_time  datetime64[ns]\n",
      " 2   bank_id                int64         \n",
      " 3   product_id             int64         \n",
      " 4   loan_limit             float64       \n",
      " 5   loan_rate              float64       \n",
      " 6   is_applied             float64       \n",
      "dtypes: datetime64[ns](1), float64(3), int64(3)\n",
      "memory usage: 722.4 MB\n"
     ]
    }
   ],
   "source": [
    "loan_result.info()"
   ]
  },
  {
   "cell_type": "code",
   "execution_count": 10,
   "id": "8afbbfa0",
   "metadata": {},
   "outputs": [
    {
     "name": "stdout",
     "output_type": "stream",
     "text": [
      "<class 'pandas.core.frame.DataFrame'>\n",
      "RangeIndex: 17843993 entries, 0 to 17843992\n",
      "Data columns (total 3 columns):\n",
      " #   Column     Dtype         \n",
      "---  ------     -----         \n",
      " 0   user_id    int64         \n",
      " 1   event      object        \n",
      " 2   timestamp  datetime64[ns]\n",
      "dtypes: datetime64[ns](1), int64(1), object(1)\n",
      "memory usage: 408.4+ MB\n"
     ]
    }
   ],
   "source": [
    "log_data.info()"
   ]
  },
  {
   "cell_type": "code",
   "execution_count": null,
   "id": "469c9ec8",
   "metadata": {},
   "outputs": [],
   "source": [
    "train_data = loan_result[]"
   ]
  },
  {
   "cell_type": "markdown",
   "id": "ea01398c",
   "metadata": {},
   "source": [
    "### handling missing data"
   ]
  }
 ],
 "metadata": {
  "kernelspec": {
   "display_name": "Python 3 (ipykernel)",
   "language": "python",
   "name": "python3"
  },
  "language_info": {
   "codemirror_mode": {
    "name": "ipython",
    "version": 3
   },
   "file_extension": ".py",
   "mimetype": "text/x-python",
   "name": "python",
   "nbconvert_exporter": "python",
   "pygments_lexer": "ipython3",
   "version": "3.9.12"
  }
 },
 "nbformat": 4,
 "nbformat_minor": 5
}

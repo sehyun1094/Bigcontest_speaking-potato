{
 "cells": [
  {
   "cell_type": "markdown",
   "id": "46d1caf6-3da6-4d88-b197-9c8a2815565f",
   "metadata": {
    "id": "46d1caf6-3da6-4d88-b197-9c8a2815565f"
   },
   "source": [
    "# Bigcontest 데이터 탐색"
   ]
  },
  {
   "cell_type": "markdown",
   "id": "891ea746-3049-4943-a869-1d85e0e600c5",
   "metadata": {
    "id": "891ea746-3049-4943-a869-1d85e0e600c5",
    "tags": []
   },
   "source": [
    "## 0. library Packages"
   ]
  },
  {
   "cell_type": "code",
   "execution_count": 1,
   "id": "5970345d-44c4-4444-a034-324aae21a2c9",
   "metadata": {
    "id": "5970345d-44c4-4444-a034-324aae21a2c9"
   },
   "outputs": [],
   "source": [
    "import pandas as pd\n",
    "import numpy as np"
   ]
  },
  {
   "cell_type": "markdown",
   "id": "d01e5cc1-385b-4146-8daa-d7eecc6f9846",
   "metadata": {
    "id": "d01e5cc1-385b-4146-8daa-d7eecc6f9846"
   },
   "source": [
    "## 1. Import Data"
   ]
  },
  {
   "cell_type": "code",
   "execution_count": 2,
   "id": "5703cdc7-5acd-41d9-a7f9-29b23c2f8c68",
   "metadata": {
    "id": "5703cdc7-5acd-41d9-a7f9-29b23c2f8c68"
   },
   "outputs": [
    {
     "ename": "FileNotFoundError",
     "evalue": "[Errno 2] No such file or directory: '../data/loan_result.csv'",
     "output_type": "error",
     "traceback": [
      "\u001b[1;31m---------------------------------------------------------------------------\u001b[0m",
      "\u001b[1;31mFileNotFoundError\u001b[0m                         Traceback (most recent call last)",
      "Input \u001b[1;32mIn [2]\u001b[0m, in \u001b[0;36m<cell line: 1>\u001b[1;34m()\u001b[0m\n\u001b[1;32m----> 1\u001b[0m loan_result \u001b[38;5;241m=\u001b[39m \u001b[43mpd\u001b[49m\u001b[38;5;241;43m.\u001b[39;49m\u001b[43mread_csv\u001b[49m\u001b[43m(\u001b[49m\u001b[38;5;124;43m\"\u001b[39;49m\u001b[38;5;124;43m../data/loan_result.csv\u001b[39;49m\u001b[38;5;124;43m\"\u001b[39;49m\u001b[43m)\u001b[49m\n\u001b[0;32m      2\u001b[0m log_data \u001b[38;5;241m=\u001b[39m pd\u001b[38;5;241m.\u001b[39mread_csv(\u001b[38;5;124m\"\u001b[39m\u001b[38;5;124m../data/log_data.csv\u001b[39m\u001b[38;5;124m\"\u001b[39m)\n\u001b[0;32m      3\u001b[0m user_spec \u001b[38;5;241m=\u001b[39m pd\u001b[38;5;241m.\u001b[39mread_csv(\u001b[38;5;124m\"\u001b[39m\u001b[38;5;124m../data/user_spec_new.csv\u001b[39m\u001b[38;5;124m\"\u001b[39m)\n",
      "File \u001b[1;32m~\\anaconda3\\lib\\site-packages\\pandas\\util\\_decorators.py:311\u001b[0m, in \u001b[0;36mdeprecate_nonkeyword_arguments.<locals>.decorate.<locals>.wrapper\u001b[1;34m(*args, **kwargs)\u001b[0m\n\u001b[0;32m    305\u001b[0m \u001b[38;5;28;01mif\u001b[39;00m \u001b[38;5;28mlen\u001b[39m(args) \u001b[38;5;241m>\u001b[39m num_allow_args:\n\u001b[0;32m    306\u001b[0m     warnings\u001b[38;5;241m.\u001b[39mwarn(\n\u001b[0;32m    307\u001b[0m         msg\u001b[38;5;241m.\u001b[39mformat(arguments\u001b[38;5;241m=\u001b[39marguments),\n\u001b[0;32m    308\u001b[0m         \u001b[38;5;167;01mFutureWarning\u001b[39;00m,\n\u001b[0;32m    309\u001b[0m         stacklevel\u001b[38;5;241m=\u001b[39mstacklevel,\n\u001b[0;32m    310\u001b[0m     )\n\u001b[1;32m--> 311\u001b[0m \u001b[38;5;28;01mreturn\u001b[39;00m func(\u001b[38;5;241m*\u001b[39margs, \u001b[38;5;241m*\u001b[39m\u001b[38;5;241m*\u001b[39mkwargs)\n",
      "File \u001b[1;32m~\\anaconda3\\lib\\site-packages\\pandas\\io\\parsers\\readers.py:680\u001b[0m, in \u001b[0;36mread_csv\u001b[1;34m(filepath_or_buffer, sep, delimiter, header, names, index_col, usecols, squeeze, prefix, mangle_dupe_cols, dtype, engine, converters, true_values, false_values, skipinitialspace, skiprows, skipfooter, nrows, na_values, keep_default_na, na_filter, verbose, skip_blank_lines, parse_dates, infer_datetime_format, keep_date_col, date_parser, dayfirst, cache_dates, iterator, chunksize, compression, thousands, decimal, lineterminator, quotechar, quoting, doublequote, escapechar, comment, encoding, encoding_errors, dialect, error_bad_lines, warn_bad_lines, on_bad_lines, delim_whitespace, low_memory, memory_map, float_precision, storage_options)\u001b[0m\n\u001b[0;32m    665\u001b[0m kwds_defaults \u001b[38;5;241m=\u001b[39m _refine_defaults_read(\n\u001b[0;32m    666\u001b[0m     dialect,\n\u001b[0;32m    667\u001b[0m     delimiter,\n\u001b[1;32m   (...)\u001b[0m\n\u001b[0;32m    676\u001b[0m     defaults\u001b[38;5;241m=\u001b[39m{\u001b[38;5;124m\"\u001b[39m\u001b[38;5;124mdelimiter\u001b[39m\u001b[38;5;124m\"\u001b[39m: \u001b[38;5;124m\"\u001b[39m\u001b[38;5;124m,\u001b[39m\u001b[38;5;124m\"\u001b[39m},\n\u001b[0;32m    677\u001b[0m )\n\u001b[0;32m    678\u001b[0m kwds\u001b[38;5;241m.\u001b[39mupdate(kwds_defaults)\n\u001b[1;32m--> 680\u001b[0m \u001b[38;5;28;01mreturn\u001b[39;00m \u001b[43m_read\u001b[49m\u001b[43m(\u001b[49m\u001b[43mfilepath_or_buffer\u001b[49m\u001b[43m,\u001b[49m\u001b[43m \u001b[49m\u001b[43mkwds\u001b[49m\u001b[43m)\u001b[49m\n",
      "File \u001b[1;32m~\\anaconda3\\lib\\site-packages\\pandas\\io\\parsers\\readers.py:575\u001b[0m, in \u001b[0;36m_read\u001b[1;34m(filepath_or_buffer, kwds)\u001b[0m\n\u001b[0;32m    572\u001b[0m _validate_names(kwds\u001b[38;5;241m.\u001b[39mget(\u001b[38;5;124m\"\u001b[39m\u001b[38;5;124mnames\u001b[39m\u001b[38;5;124m\"\u001b[39m, \u001b[38;5;28;01mNone\u001b[39;00m))\n\u001b[0;32m    574\u001b[0m \u001b[38;5;66;03m# Create the parser.\u001b[39;00m\n\u001b[1;32m--> 575\u001b[0m parser \u001b[38;5;241m=\u001b[39m TextFileReader(filepath_or_buffer, \u001b[38;5;241m*\u001b[39m\u001b[38;5;241m*\u001b[39mkwds)\n\u001b[0;32m    577\u001b[0m \u001b[38;5;28;01mif\u001b[39;00m chunksize \u001b[38;5;129;01mor\u001b[39;00m iterator:\n\u001b[0;32m    578\u001b[0m     \u001b[38;5;28;01mreturn\u001b[39;00m parser\n",
      "File \u001b[1;32m~\\anaconda3\\lib\\site-packages\\pandas\\io\\parsers\\readers.py:933\u001b[0m, in \u001b[0;36mTextFileReader.__init__\u001b[1;34m(self, f, engine, **kwds)\u001b[0m\n\u001b[0;32m    930\u001b[0m     \u001b[38;5;28mself\u001b[39m\u001b[38;5;241m.\u001b[39moptions[\u001b[38;5;124m\"\u001b[39m\u001b[38;5;124mhas_index_names\u001b[39m\u001b[38;5;124m\"\u001b[39m] \u001b[38;5;241m=\u001b[39m kwds[\u001b[38;5;124m\"\u001b[39m\u001b[38;5;124mhas_index_names\u001b[39m\u001b[38;5;124m\"\u001b[39m]\n\u001b[0;32m    932\u001b[0m \u001b[38;5;28mself\u001b[39m\u001b[38;5;241m.\u001b[39mhandles: IOHandles \u001b[38;5;241m|\u001b[39m \u001b[38;5;28;01mNone\u001b[39;00m \u001b[38;5;241m=\u001b[39m \u001b[38;5;28;01mNone\u001b[39;00m\n\u001b[1;32m--> 933\u001b[0m \u001b[38;5;28mself\u001b[39m\u001b[38;5;241m.\u001b[39m_engine \u001b[38;5;241m=\u001b[39m \u001b[38;5;28;43mself\u001b[39;49m\u001b[38;5;241;43m.\u001b[39;49m\u001b[43m_make_engine\u001b[49m\u001b[43m(\u001b[49m\u001b[43mf\u001b[49m\u001b[43m,\u001b[49m\u001b[43m \u001b[49m\u001b[38;5;28;43mself\u001b[39;49m\u001b[38;5;241;43m.\u001b[39;49m\u001b[43mengine\u001b[49m\u001b[43m)\u001b[49m\n",
      "File \u001b[1;32m~\\anaconda3\\lib\\site-packages\\pandas\\io\\parsers\\readers.py:1217\u001b[0m, in \u001b[0;36mTextFileReader._make_engine\u001b[1;34m(self, f, engine)\u001b[0m\n\u001b[0;32m   1213\u001b[0m     mode \u001b[38;5;241m=\u001b[39m \u001b[38;5;124m\"\u001b[39m\u001b[38;5;124mrb\u001b[39m\u001b[38;5;124m\"\u001b[39m\n\u001b[0;32m   1214\u001b[0m \u001b[38;5;66;03m# error: No overload variant of \"get_handle\" matches argument types\u001b[39;00m\n\u001b[0;32m   1215\u001b[0m \u001b[38;5;66;03m# \"Union[str, PathLike[str], ReadCsvBuffer[bytes], ReadCsvBuffer[str]]\"\u001b[39;00m\n\u001b[0;32m   1216\u001b[0m \u001b[38;5;66;03m# , \"str\", \"bool\", \"Any\", \"Any\", \"Any\", \"Any\", \"Any\"\u001b[39;00m\n\u001b[1;32m-> 1217\u001b[0m \u001b[38;5;28mself\u001b[39m\u001b[38;5;241m.\u001b[39mhandles \u001b[38;5;241m=\u001b[39m \u001b[43mget_handle\u001b[49m\u001b[43m(\u001b[49m\u001b[43m  \u001b[49m\u001b[38;5;66;43;03m# type: ignore[call-overload]\u001b[39;49;00m\n\u001b[0;32m   1218\u001b[0m \u001b[43m    \u001b[49m\u001b[43mf\u001b[49m\u001b[43m,\u001b[49m\n\u001b[0;32m   1219\u001b[0m \u001b[43m    \u001b[49m\u001b[43mmode\u001b[49m\u001b[43m,\u001b[49m\n\u001b[0;32m   1220\u001b[0m \u001b[43m    \u001b[49m\u001b[43mencoding\u001b[49m\u001b[38;5;241;43m=\u001b[39;49m\u001b[38;5;28;43mself\u001b[39;49m\u001b[38;5;241;43m.\u001b[39;49m\u001b[43moptions\u001b[49m\u001b[38;5;241;43m.\u001b[39;49m\u001b[43mget\u001b[49m\u001b[43m(\u001b[49m\u001b[38;5;124;43m\"\u001b[39;49m\u001b[38;5;124;43mencoding\u001b[39;49m\u001b[38;5;124;43m\"\u001b[39;49m\u001b[43m,\u001b[49m\u001b[43m \u001b[49m\u001b[38;5;28;43;01mNone\u001b[39;49;00m\u001b[43m)\u001b[49m\u001b[43m,\u001b[49m\n\u001b[0;32m   1221\u001b[0m \u001b[43m    \u001b[49m\u001b[43mcompression\u001b[49m\u001b[38;5;241;43m=\u001b[39;49m\u001b[38;5;28;43mself\u001b[39;49m\u001b[38;5;241;43m.\u001b[39;49m\u001b[43moptions\u001b[49m\u001b[38;5;241;43m.\u001b[39;49m\u001b[43mget\u001b[49m\u001b[43m(\u001b[49m\u001b[38;5;124;43m\"\u001b[39;49m\u001b[38;5;124;43mcompression\u001b[39;49m\u001b[38;5;124;43m\"\u001b[39;49m\u001b[43m,\u001b[49m\u001b[43m \u001b[49m\u001b[38;5;28;43;01mNone\u001b[39;49;00m\u001b[43m)\u001b[49m\u001b[43m,\u001b[49m\n\u001b[0;32m   1222\u001b[0m \u001b[43m    \u001b[49m\u001b[43mmemory_map\u001b[49m\u001b[38;5;241;43m=\u001b[39;49m\u001b[38;5;28;43mself\u001b[39;49m\u001b[38;5;241;43m.\u001b[39;49m\u001b[43moptions\u001b[49m\u001b[38;5;241;43m.\u001b[39;49m\u001b[43mget\u001b[49m\u001b[43m(\u001b[49m\u001b[38;5;124;43m\"\u001b[39;49m\u001b[38;5;124;43mmemory_map\u001b[39;49m\u001b[38;5;124;43m\"\u001b[39;49m\u001b[43m,\u001b[49m\u001b[43m \u001b[49m\u001b[38;5;28;43;01mFalse\u001b[39;49;00m\u001b[43m)\u001b[49m\u001b[43m,\u001b[49m\n\u001b[0;32m   1223\u001b[0m \u001b[43m    \u001b[49m\u001b[43mis_text\u001b[49m\u001b[38;5;241;43m=\u001b[39;49m\u001b[43mis_text\u001b[49m\u001b[43m,\u001b[49m\n\u001b[0;32m   1224\u001b[0m \u001b[43m    \u001b[49m\u001b[43merrors\u001b[49m\u001b[38;5;241;43m=\u001b[39;49m\u001b[38;5;28;43mself\u001b[39;49m\u001b[38;5;241;43m.\u001b[39;49m\u001b[43moptions\u001b[49m\u001b[38;5;241;43m.\u001b[39;49m\u001b[43mget\u001b[49m\u001b[43m(\u001b[49m\u001b[38;5;124;43m\"\u001b[39;49m\u001b[38;5;124;43mencoding_errors\u001b[39;49m\u001b[38;5;124;43m\"\u001b[39;49m\u001b[43m,\u001b[49m\u001b[43m \u001b[49m\u001b[38;5;124;43m\"\u001b[39;49m\u001b[38;5;124;43mstrict\u001b[39;49m\u001b[38;5;124;43m\"\u001b[39;49m\u001b[43m)\u001b[49m\u001b[43m,\u001b[49m\n\u001b[0;32m   1225\u001b[0m \u001b[43m    \u001b[49m\u001b[43mstorage_options\u001b[49m\u001b[38;5;241;43m=\u001b[39;49m\u001b[38;5;28;43mself\u001b[39;49m\u001b[38;5;241;43m.\u001b[39;49m\u001b[43moptions\u001b[49m\u001b[38;5;241;43m.\u001b[39;49m\u001b[43mget\u001b[49m\u001b[43m(\u001b[49m\u001b[38;5;124;43m\"\u001b[39;49m\u001b[38;5;124;43mstorage_options\u001b[39;49m\u001b[38;5;124;43m\"\u001b[39;49m\u001b[43m,\u001b[49m\u001b[43m \u001b[49m\u001b[38;5;28;43;01mNone\u001b[39;49;00m\u001b[43m)\u001b[49m\u001b[43m,\u001b[49m\n\u001b[0;32m   1226\u001b[0m \u001b[43m\u001b[49m\u001b[43m)\u001b[49m\n\u001b[0;32m   1227\u001b[0m \u001b[38;5;28;01massert\u001b[39;00m \u001b[38;5;28mself\u001b[39m\u001b[38;5;241m.\u001b[39mhandles \u001b[38;5;129;01mis\u001b[39;00m \u001b[38;5;129;01mnot\u001b[39;00m \u001b[38;5;28;01mNone\u001b[39;00m\n\u001b[0;32m   1228\u001b[0m f \u001b[38;5;241m=\u001b[39m \u001b[38;5;28mself\u001b[39m\u001b[38;5;241m.\u001b[39mhandles\u001b[38;5;241m.\u001b[39mhandle\n",
      "File \u001b[1;32m~\\anaconda3\\lib\\site-packages\\pandas\\io\\common.py:789\u001b[0m, in \u001b[0;36mget_handle\u001b[1;34m(path_or_buf, mode, encoding, compression, memory_map, is_text, errors, storage_options)\u001b[0m\n\u001b[0;32m    784\u001b[0m \u001b[38;5;28;01melif\u001b[39;00m \u001b[38;5;28misinstance\u001b[39m(handle, \u001b[38;5;28mstr\u001b[39m):\n\u001b[0;32m    785\u001b[0m     \u001b[38;5;66;03m# Check whether the filename is to be opened in binary mode.\u001b[39;00m\n\u001b[0;32m    786\u001b[0m     \u001b[38;5;66;03m# Binary mode does not support 'encoding' and 'newline'.\u001b[39;00m\n\u001b[0;32m    787\u001b[0m     \u001b[38;5;28;01mif\u001b[39;00m ioargs\u001b[38;5;241m.\u001b[39mencoding \u001b[38;5;129;01mand\u001b[39;00m \u001b[38;5;124m\"\u001b[39m\u001b[38;5;124mb\u001b[39m\u001b[38;5;124m\"\u001b[39m \u001b[38;5;129;01mnot\u001b[39;00m \u001b[38;5;129;01min\u001b[39;00m ioargs\u001b[38;5;241m.\u001b[39mmode:\n\u001b[0;32m    788\u001b[0m         \u001b[38;5;66;03m# Encoding\u001b[39;00m\n\u001b[1;32m--> 789\u001b[0m         handle \u001b[38;5;241m=\u001b[39m \u001b[38;5;28;43mopen\u001b[39;49m\u001b[43m(\u001b[49m\n\u001b[0;32m    790\u001b[0m \u001b[43m            \u001b[49m\u001b[43mhandle\u001b[49m\u001b[43m,\u001b[49m\n\u001b[0;32m    791\u001b[0m \u001b[43m            \u001b[49m\u001b[43mioargs\u001b[49m\u001b[38;5;241;43m.\u001b[39;49m\u001b[43mmode\u001b[49m\u001b[43m,\u001b[49m\n\u001b[0;32m    792\u001b[0m \u001b[43m            \u001b[49m\u001b[43mencoding\u001b[49m\u001b[38;5;241;43m=\u001b[39;49m\u001b[43mioargs\u001b[49m\u001b[38;5;241;43m.\u001b[39;49m\u001b[43mencoding\u001b[49m\u001b[43m,\u001b[49m\n\u001b[0;32m    793\u001b[0m \u001b[43m            \u001b[49m\u001b[43merrors\u001b[49m\u001b[38;5;241;43m=\u001b[39;49m\u001b[43merrors\u001b[49m\u001b[43m,\u001b[49m\n\u001b[0;32m    794\u001b[0m \u001b[43m            \u001b[49m\u001b[43mnewline\u001b[49m\u001b[38;5;241;43m=\u001b[39;49m\u001b[38;5;124;43m\"\u001b[39;49m\u001b[38;5;124;43m\"\u001b[39;49m\u001b[43m,\u001b[49m\n\u001b[0;32m    795\u001b[0m \u001b[43m        \u001b[49m\u001b[43m)\u001b[49m\n\u001b[0;32m    796\u001b[0m     \u001b[38;5;28;01melse\u001b[39;00m:\n\u001b[0;32m    797\u001b[0m         \u001b[38;5;66;03m# Binary mode\u001b[39;00m\n\u001b[0;32m    798\u001b[0m         handle \u001b[38;5;241m=\u001b[39m \u001b[38;5;28mopen\u001b[39m(handle, ioargs\u001b[38;5;241m.\u001b[39mmode)\n",
      "\u001b[1;31mFileNotFoundError\u001b[0m: [Errno 2] No such file or directory: '../data/loan_result.csv'"
     ]
    }
   ],
   "source": [
    "loan_result = pd.read_csv(\"../../../../bigdata/loan_result.csv\")\n",
    "log_data = pd.read_csv(\"../../../../bigdata/log_data.csv\")\n",
    "user_spec = pd.read_csv(\"../../../../bigdata/user_spec_new.csv\")"
   ]
  },
  {
   "cell_type": "markdown",
   "id": "f708c262-7f88-4493-af42-6e32f25a0832",
   "metadata": {
    "id": "f708c262-7f88-4493-af42-6e32f25a0832",
    "tags": []
   },
   "source": [
    "## 2. Preview & Preprocessing"
   ]
  },
  {
   "cell_type": "markdown",
   "id": "81a57500-54fd-4833-9db1-870a9cef05e2",
   "metadata": {
    "id": "81a57500-54fd-4833-9db1-870a9cef05e2"
   },
   "source": [
    "### 2-1) loan_result"
   ]
  },
  {
   "cell_type": "markdown",
   "id": "d88dac5b-b924-456c-8f3f-c3c61ffefb1c",
   "metadata": {
    "id": "d88dac5b-b924-456c-8f3f-c3c61ffefb1c"
   },
   "source": [
    "![loan_result](../img/loan_result_describe.png)"
   ]
  },
  {
   "cell_type": "code",
   "execution_count": null,
   "id": "70bd8e24-5fbb-49db-90e5-26a7d3098b9c",
   "metadata": {
    "scrolled": false
   },
   "outputs": [],
   "source": [
    "loan_result"
   ]
  },
  {
   "cell_type": "markdown",
   "id": "ef0e0521-0fd6-4ba3-a073-bd917651849b",
   "metadata": {
    "id": "ef0e0521-0fd6-4ba3-a073-bd917651849b"
   },
   "source": [
    "13,527,363 행과 7열로 데이터의 행 개수가 많음"
   ]
  },
  {
   "cell_type": "code",
   "execution_count": null,
   "id": "eef5ba86-f3dc-4db6-8fad-35a6b3616082",
   "metadata": {},
   "outputs": [],
   "source": [
    "loan_result = loan_result.astype({\"loanapply_insert_time\":'datetime64'})"
   ]
  },
  {
   "cell_type": "markdown",
   "id": "8f698eb0-1cdc-4dd9-8793-2975287092b1",
   "metadata": {},
   "source": [
    "한도조회 일시를 나타내는 `loanapply_insert_time` 변수가 object 형태로 저장되어 있어 `datetime64`로 정리함."
   ]
  },
  {
   "cell_type": "code",
   "execution_count": null,
   "id": "b4d89051-ad1d-4b96-aa3c-734e27f07fb4",
   "metadata": {
    "id": "b4d89051-ad1d-4b96-aa3c-734e27f07fb4",
    "outputId": "90ac47a6-4aa7-4795-9c3e-b7eebfdb809d"
   },
   "outputs": [],
   "source": [
    "loan_result.info()"
   ]
  },
  {
   "cell_type": "code",
   "execution_count": null,
   "id": "ab24d2c8",
   "metadata": {},
   "outputs": [],
   "source": [
    "loan_result_train = loan_result.loc[loan_result[\"is_applied\"].notnull(),]\n",
    "loan_result_test = loan_result.loc[loan_result[\"is_applied\"].isnull(),]"
   ]
  },
  {
   "cell_type": "code",
   "execution_count": null,
   "id": "6af0e9fc-5d94-4e50-acba-66b75a625dda",
   "metadata": {
    "id": "6af0e9fc-5d94-4e50-acba-66b75a625dda",
    "outputId": "0cb3609f-6dff-4ee7-8f95-7f8697ac954d"
   },
   "outputs": [],
   "source": [
    "print(loan_result[\"is_applied\"].value_counts())\n",
    "print(loan_result[\"is_applied\"].value_counts(normalize=True))"
   ]
  },
  {
   "cell_type": "markdown",
   "id": "7cea70db-86b5-4129-92f9-653bc7155311",
   "metadata": {
    "id": "7cea70db-86b5-4129-92f9-653bc7155311"
   },
   "source": [
    "NaN 값이 아닌 **신청 여부(is_applied)** 값들 중 대략 94.5%가 신청을 하지 않았고, 5.5%가 신청을 하였다.  \n",
    "1의 비율이 적으므로 이를 고려할 수 있는 모델을 만드는 것이 중요해보인다."
   ]
  },
  {
   "cell_type": "markdown",
   "id": "a0eae33a-c490-4fc1-9741-14b2bdbfde6f",
   "metadata": {
    "id": "a0eae33a-c490-4fc1-9741-14b2bdbfde6f"
   },
   "source": [
    "  "
   ]
  },
  {
   "cell_type": "markdown",
   "id": "5deed2fe-1219-4e2e-afde-0800395698c1",
   "metadata": {
    "id": "5deed2fe-1219-4e2e-afde-0800395698c1",
    "tags": []
   },
   "source": [
    "### 2-2) log_data"
   ]
  },
  {
   "cell_type": "markdown",
   "id": "ae610082-a3ae-400e-a90e-a5203c5432a8",
   "metadata": {
    "id": "ae610082-a3ae-400e-a90e-a5203c5432a8"
   },
   "source": [
    "![log_data](../img/log_data_describe.png)"
   ]
  },
  {
   "cell_type": "code",
   "execution_count": null,
   "id": "5bd8a7dc-8225-48cf-9ba5-9da38e2b6971",
   "metadata": {
    "id": "5bd8a7dc-8225-48cf-9ba5-9da38e2b6971",
    "outputId": "ceea2217-190b-4f61-89c6-f4a672f2ffe8"
   },
   "outputs": [],
   "source": [
    "log_data"
   ]
  },
  {
   "cell_type": "markdown",
   "id": "c448f79d-c738-4a79-b887-75c797e7ba72",
   "metadata": {
    "id": "c448f79d-c738-4a79-b887-75c797e7ba72"
   },
   "source": [
    "17,843,993 행과 6열로 데이터의 행 개수가 많음"
   ]
  },
  {
   "cell_type": "code",
   "execution_count": null,
   "id": "5ea6fd31-bdbf-4d77-9901-f37ab89a204e",
   "metadata": {
    "id": "5ea6fd31-bdbf-4d77-9901-f37ab89a204e",
    "outputId": "87f4b352-41ab-4bc0-9ce7-97958518817d"
   },
   "outputs": [],
   "source": [
    "log_data.info()"
   ]
  },
  {
   "cell_type": "code",
   "execution_count": null,
   "id": "9439158c-2139-4022-8b59-e72dba20f13a",
   "metadata": {},
   "outputs": [],
   "source": [
    "log_data = log_data.drop(labels = [\"mp_os\", \"mp_app_version\",\"date_cd\"], axis = 1).astype({'timestamp':'datetime64'})"
   ]
  },
  {
   "cell_type": "markdown",
   "id": "22bb3ff5-d989-4b89-a49a-8b0a8a932db0",
   "metadata": {
    "id": "22bb3ff5-d989-4b89-a49a-8b0a8a932db0",
    "tags": []
   },
   "source": [
    "행동일시를 나타내는 `timestamp` 가 object 형태이므로 `datetime64`로 정리할 필요가 있어보임. 그리고, 사용 기종과 어플리케이션 버전이 크게 유의미하지 않을 것이라 생각되고, `data_cd`는 `timestamp`에 포함되므로 삭제한다."
   ]
  },
  {
   "cell_type": "code",
   "execution_count": null,
   "id": "075c1a26-d2b8-4c2e-a261-e998f25bfcbd",
   "metadata": {
    "id": "075c1a26-d2b8-4c2e-a261-e998f25bfcbd",
    "outputId": "82480d34-32e0-4564-a6bb-feb638b95f47",
    "tags": []
   },
   "outputs": [],
   "source": [
    "log_data[\"event\"].value_counts()"
   ]
  },
  {
   "cell_type": "markdown",
   "id": "ebf95c90-eebc-4515-b443-8db4004def92",
   "metadata": {
    "id": "ebf95c90-eebc-4515-b443-8db4004def92"
   },
   "source": [
    "  "
   ]
  },
  {
   "cell_type": "markdown",
   "id": "2e3c23ee-0686-4cfe-8acc-8625f3423632",
   "metadata": {
    "id": "2e3c23ee-0686-4cfe-8acc-8625f3423632"
   },
   "source": [
    "### 2-3) user_spec"
   ]
  },
  {
   "cell_type": "markdown",
   "id": "120559b7-f6ff-4fcb-8ffc-7321a93e9a1c",
   "metadata": {
    "id": "120559b7-f6ff-4fcb-8ffc-7321a93e9a1c"
   },
   "source": [
    "![user_spec](../img/user_spec_describe.png)"
   ]
  },
  {
   "cell_type": "code",
   "execution_count": null,
   "id": "0a7b0876-9769-469e-a886-8f86bd7928b2",
   "metadata": {
    "id": "0a7b0876-9769-469e-a886-8f86bd7928b2",
    "outputId": "2e2f6414-fb1e-4170-e5a4-0d5eacbb8248"
   },
   "outputs": [],
   "source": [
    "user_spec"
   ]
  },
  {
   "cell_type": "markdown",
   "id": "31758f10-dc81-42ad-923f-1b8ed3f41d74",
   "metadata": {
    "id": "31758f10-dc81-42ad-923f-1b8ed3f41d74"
   },
   "source": [
    "1,394,216 행과 17열로 각 행이 한 사람에 대한 정보를 뜻함"
   ]
  },
  {
   "cell_type": "code",
   "execution_count": null,
   "id": "c259d739",
   "metadata": {},
   "outputs": [],
   "source": [
    "user_spec.info()"
   ]
  },
  {
   "cell_type": "code",
   "execution_count": null,
   "id": "c1aa5c44-c1a3-4c79-a0d0-631cd879b96b",
   "metadata": {},
   "outputs": [],
   "source": [
    "user_spec = user_spec.astype({user_spec.columns[3]:'datetime64'}).drop('Unnamed: 0', axis = 1)"
   ]
  },
  {
   "cell_type": "markdown",
   "id": "c3ec767c-f38e-442d-9e9d-f917f004e682",
   "metadata": {},
   "source": [
    "적절히 `dtype`을 변경하고, 시간을 나타내는 변수들에 대해서 적당히 `datetime64`로 변경한다."
   ]
  },
  {
   "cell_type": "code",
   "execution_count": null,
   "id": "25b87809-deff-4dc2-b49a-8cf08377dfd2",
   "metadata": {
    "id": "25b87809-deff-4dc2-b49a-8cf08377dfd2",
    "outputId": "fc50677e-a82e-4807-a1f9-cb867d427a4e",
    "scrolled": false
   },
   "outputs": [],
   "source": [
    "user_spec.info()"
   ]
  },
  {
   "cell_type": "code",
   "execution_count": null,
   "id": "b3fa25b6-a78a-4a1f-9e9b-8e2ebce1d789",
   "metadata": {
    "id": "b3fa25b6-a78a-4a1f-9e9b-8e2ebce1d789",
    "outputId": "81003749-c43f-4898-8453-69f59e4fd85c",
    "scrolled": false
   },
   "outputs": [],
   "source": [
    "user_spec.isnull().sum()"
   ]
  },
  {
   "cell_type": "markdown",
   "id": "9cf912d7",
   "metadata": {},
   "source": [
    "## `user_spec` vs `loan_result`"
   ]
  }
 ],
 "metadata": {
  "colab": {
   "provenance": []
  },
  "kernelspec": {
   "display_name": "Python 3 (ipykernel)",
   "language": "python",
   "name": "python3"
  },
  "language_info": {
   "codemirror_mode": {
    "name": "ipython",
    "version": 3
   },
   "file_extension": ".py",
   "mimetype": "text/x-python",
   "name": "python",
   "nbconvert_exporter": "python",
   "pygments_lexer": "ipython3",
   "version": "3.9.12"
  },
  "toc-autonumbering": false
 },
 "nbformat": 4,
 "nbformat_minor": 5
}
